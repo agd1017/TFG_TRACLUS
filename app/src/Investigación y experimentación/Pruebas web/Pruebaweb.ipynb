{
 "cells": [
  {
   "cell_type": "code",
   "execution_count": 1,
   "metadata": {},
   "outputs": [],
   "source": [
    "import pandas as pd\n",
    "import geopandas as gpd\n",
    "import numpy as np\n",
    "from math import sqrt\n",
    "import matplotlib.pyplot as plt\n",
    "import matplotlib.colors as colors\n",
    "import contextily as ctx\n",
    "import json\n",
    "import base64\n",
    "from io import BytesIO\n",
    "from pyproj import Transformer\n",
    "from shapely.geometry import LineString, box\n",
    "from dash import Dash, html"
   ]
  },
  {
   "cell_type": "code",
   "execution_count": 2,
   "metadata": {},
   "outputs": [],
   "source": [
    "# Variables globales\n",
    "\n",
    "# Número de filas a leer del archivo CSV\n",
    "nrows = 100000\n",
    "# Ruta del archivo CSV\n",
    "filename = \"../train_data/taxis_trajectory/train.csv\""
   ]
  },
  {
   "cell_type": "markdown",
   "metadata": {},
   "source": [
    "Esta segunda version de el filtro tasda unos 30-40 segundos entre habrir el archivo y filtrar 100000 datos."
   ]
  },
  {
   "cell_type": "code",
   "execution_count": 3,
   "metadata": {},
   "outputs": [],
   "source": [
    "def filtrar_coordenadas_anomalas(polyline, umbral_distancia):\n",
    "    # Filtrar puntos que discorden significativamente de sus predecesores en la polilínea.\n",
    "    if len(polyline) < 2:\n",
    "        # Si hay menos de dos puntos, no hay suficiente información para filtrar\n",
    "        return polyline\n",
    "\n",
    "    puntos_filtrados = [polyline[0]]  # Mantener el primer punto siempre\n",
    "\n",
    "    for i in range(1, len(polyline)):\n",
    "        x1, y1 = puntos_filtrados[-1]\n",
    "        x2, y2 = polyline[i]\n",
    "        distancia = sqrt((x2 - x1) ** 2 + (y2 - y1) ** 2)\n",
    "        if distancia <= umbral_distancia:\n",
    "            puntos_filtrados.append(polyline[i])\n",
    "\n",
    "    return puntos_filtrados"
   ]
  },
  {
   "cell_type": "code",
   "execution_count": 4,
   "metadata": {},
   "outputs": [],
   "source": [
    "def load_and_simplify_data(filename, rows, tolerance=0.001, umbral_distancia=0.01):\n",
    "    # Cargar datos\n",
    "    df = pd.read_csv(filename, nrows=rows, sep=\",\", low_memory=False)\n",
    "    \n",
    "    # Filtrar y crear LineString para cada polilínea\n",
    "    def create_line(x):\n",
    "        points = json.loads(x)\n",
    "        points_filtrados = filtrar_coordenadas_anomalas(points, umbral_distancia)\n",
    "        if len(points_filtrados) > 1:\n",
    "            return LineString(points_filtrados)\n",
    "        return None\n",
    "    \n",
    "    df['geometry'] = df['POLYLINE'].apply(create_line)\n",
    "    \n",
    "    # Eliminar filas con geometrías nulas\n",
    "    df = df[df['geometry'].notnull()]\n",
    "    \n",
    "    # Convertir a Geopandas DataFrame\n",
    "    gdf = gpd.GeoDataFrame(df, geometry='geometry')\n",
    "    \n",
    "    # Simplificar las geometrías\n",
    "    gdf['geometry'] = gdf['geometry'].simplify(tolerance)\n",
    "    \n",
    "    return gdf"
   ]
  },
  {
   "cell_type": "code",
   "execution_count": 5,
   "metadata": {},
   "outputs": [],
   "source": [
    "def filter_data_in_area(gdf, minx, miny, maxx, maxy):\n",
    "    # Crear un polígono de área de interés\n",
    "    area_of_interest = box(minx, miny, maxx, maxy)\n",
    "    \n",
    "    # Filtrar los datos para incluir solo aquellos completamente dentro del área de interés\n",
    "    gdf_filtered = gdf[gdf.geometry.within(area_of_interest)]\n",
    "    \n",
    "    return gdf_filtered"
   ]
  },
  {
   "cell_type": "code",
   "execution_count": 6,
   "metadata": {},
   "outputs": [],
   "source": [
    "def lisr_coordinates(gdf):   \n",
    "    # Crear listas vacías para las coordenadas x e y\n",
    "    x_coords_flat = []\n",
    "    y_coords_flat = []\n",
    "\n",
    "    # Iterar sobre cada geometría en el GeoDataFrame\n",
    "    for geom in gdf['geometry']:\n",
    "        # Verificar que la geometría sea una LineString\n",
    "        if isinstance(geom, LineString):\n",
    "            # Iterar sobre cada punto en la LineString\n",
    "            for point in geom.coords:\n",
    "                x_coords_flat.append(point[0])  # Añadir la coordenada x a la lista\n",
    "                y_coords_flat.append(point[1])  # Añadir la coordenada y a la lista\n",
    "    \n",
    "    return x_coords_flat, y_coords_flat"
   ]
  },
  {
   "cell_type": "code",
   "execution_count": 7,
   "metadata": {},
   "outputs": [],
   "source": [
    "def solicitar_coordenadas(gdf):\n",
    "    \"\"\" print(\"Por favor, introduce las coordenadas para el área de interés.\")\n",
    "    minx = float(input(\"Introduce la longitud mínima (minx): \"))\n",
    "    miny = float(input(\"Introduce la latitud mínima (miny): \"))\n",
    "    maxx = float(input(\"Introduce la longitud máxima (maxx): \"))\n",
    "    maxy = float(input(\"Introduce la latitud máxima (maxy): \")) \"\"\"\n",
    "    \n",
    "    \"\"\" minx=-8.689\n",
    "    miny=41.107\n",
    "    maxx=-8.560\n",
    "    maxy=41.185 \"\"\"\n",
    "\n",
    "    x_coords_flat, y_coords_flat = lisr_coordinates(gdf)\n",
    "\n",
    "    maxx, maxy, minx, miny = max(x_coords_flat), max(y_coords_flat), min(x_coords_flat), min(y_coords_flat)\n",
    "\n",
    "    return minx, miny, maxx, maxy "
   ]
  },
  {
   "cell_type": "code",
   "execution_count": 8,
   "metadata": {},
   "outputs": [],
   "source": [
    "# Esto aun no se como pedirlo o si hacerlo\n",
    "def solicitar_map_position():\n",
    "    bin_count = 300 # Cantidad de bins para el histograma 2D\n",
    "    posicion_x = 0 # Coordenada x del centro del mapa, para despazarlo por el eje y, poner valore arededro de 1000\n",
    "    posicion_y = 0 # Coordenada y del centro del mapa\n",
    "    zoom = 2 # Nivel de zoom del mapa, por cuanto se divide las cordenadas\n",
    "\n",
    "    return bin_count, posicion_x, posicion_y, zoom"
   ]
  },
  {
   "cell_type": "code",
   "execution_count": 9,
   "metadata": {},
   "outputs": [],
   "source": [
    "def map_ilustration(gdf, minx, miny, maxx, maxy):\n",
    "    gdf = gdf.set_crs(\"EPSG:4326\")\n",
    "\n",
    "    # Luego, usar estas coordenadas en la función de filtrado\n",
    "    gdf = filter_data_in_area(gdf, minx, miny, maxx, maxy)\n",
    "\n",
    "    # Transforcion en EPSG:3857 para alinear con el mapa base de Contextily\n",
    "    gdf = gdf.to_crs(epsg=3857)\n",
    "    \n",
    "    # Crear una figura con Matplotlib\n",
    "    fig, ax = plt.subplots(figsize=(10, 10), dpi=300)\n",
    "    gdf.plot(ax=ax, linewidth=0.5, color='blue')\n",
    "\n",
    "    # Añadir un mapa base con Contextily\n",
    "    ctx.add_basemap(ax, source=ctx.providers.CartoDB.Positron)\n",
    "\n",
    "    # Añadir título y etiquetas\n",
    "    plt.title('Mapa de Trayectorias de Taxis con Mapa de Fondo')\n",
    "    plt.xlabel('Longitud')\n",
    "    plt.ylabel('Latitud')\n",
    "\n",
    "    # Crear un objeto BytesIO para guardar la imagen\n",
    "    img_data = BytesIO()\n",
    "    plt.savefig(img_data, format='png')\n",
    "    img_data.seek(0)  # Mover el 'cursor' al principio del archivo en memoria\n",
    "    \n",
    "    # Es importante cerrar la figura para liberar memoria\n",
    "    plt.close(fig)\n",
    "\n",
    "    # Codificar la imagen generada en base64\n",
    "    encoded_string = base64.b64encode(img_data.read()).decode('utf-8')\n",
    "\n",
    "    return encoded_string"
   ]
  },
  {
   "cell_type": "code",
   "execution_count": 10,
   "metadata": {},
   "outputs": [],
   "source": [
    "def map_heat(gdf, minx, miny, maxx, maxy, bin_count, posicion_x, posicion_y, zoom):  \n",
    "    # Obtener las coordenadas x e y de las geometrías \n",
    "    x_coords_flat, y_coords_flat = lisr_coordinates(gdf)\n",
    "\n",
    "    # Calcular el histograma bidimensional de las coordenadas x e y\n",
    "    heatmap, _, _ = np.histogram2d(x_coords_flat, y_coords_flat, bins=bin_count, density=True, range=[[minx, maxx], [miny, maxy]])\n",
    "\n",
    "    # Inicializar el transformador de coordenadas\n",
    "    transformer = Transformer.from_crs(\"epsg:4326\", \"epsg:3857\", always_xy=True)\n",
    "\n",
    "    # Transformar las coordenadas\n",
    "    xmin, ymin = transformer.transform(minx, miny)\n",
    "    xmax, ymax = transformer.transform(maxx, maxy)\n",
    "    \n",
    "    \"\"\" # Calcular el centro y el rango de los ejes x e y\n",
    "    x_center, y_center = ((xmin + xmax) / 2) + posicion_x, ((ymin + ymax) / 2) + posicion_y\n",
    "    x_range, y_range = (xmax - xmin) / zoom, (ymax - ymin) / zoom \"\"\"\n",
    "\n",
    "    # Crear la figura y los ejes para matplotlib\n",
    "    fig, ax = plt.subplots(figsize=(10, 10), dpi=300)\n",
    "\n",
    "    # Crear una normalización logarítmica\n",
    "    norm = colors.LogNorm(vmin=heatmap.min()+1, vmax=heatmap.max())\n",
    "\n",
    "    # Mostrar el mapa de calor y capturar el objeto mappable retornado por imshow\n",
    "    mappable = ax.imshow(heatmap.T, origin='lower', norm=norm ,extent=[xmin, xmax, ymin, ymax], aspect='auto', alpha=0.7, zorder=2)\n",
    "\n",
    "    # Añadir el mapa base\n",
    "    ctx.add_basemap(ax, source=ctx.providers.CartoDB.Positron, zoom='auto')\n",
    "\n",
    "    \"\"\" # Ajustar los límites de los ejes para coincidir con los bordes del histograma\n",
    "    ax.set_xlim(x_center - x_range, x_center + x_range)\n",
    "    ax.set_ylim(y_center - y_range, y_center + y_range) \"\"\"\n",
    "\n",
    "    # Añadir barra de color, títulos y etiquetas usando el objeto mappable\n",
    "    plt.colorbar(mappable, label='Densidad')\n",
    "    plt.title('Mapa de Calor de Trayectorias de Taxis con Mapa de Fondo')\n",
    "    plt.xlabel('Longitud')\n",
    "    plt.ylabel('Latitud')\n",
    "\n",
    "    # Crear un objeto BytesIO para guardar la imagen\n",
    "    img_data = BytesIO()\n",
    "    plt.savefig(img_data, format='png')\n",
    "    img_data.seek(0)  # Mover el 'cursor' al principio del archivo en memoria\n",
    "    \n",
    "    # Es importante cerrar la figura para liberar memoria\n",
    "    plt.close(fig)\n",
    "\n",
    "    # Codificar la imagen generada en base64\n",
    "    encoded_string = base64.b64encode(img_data.read()).decode('utf-8')\n",
    "\n",
    "    return encoded_string"
   ]
  },
  {
   "cell_type": "markdown",
   "metadata": {},
   "source": [
    "El tiempo aumente cuando se reducen la cordenadas a un lugar mas concreto, el archivo completo tarda unos 7 min y mientras que centrado en oporto tarde 14 min."
   ]
  },
  {
   "cell_type": "code",
   "execution_count": 11,
   "metadata": {},
   "outputs": [],
   "source": [
    "# Cargar y simplificar datos\n",
    "gdf = load_and_simplify_data(filename, nrows)"
   ]
  },
  {
   "cell_type": "code",
   "execution_count": 12,
   "metadata": {},
   "outputs": [],
   "source": [
    "# solicitar coordenadas\n",
    "minx, miny, maxx, maxy = solicitar_coordenadas(gdf)\n",
    "\n",
    "# solicitar datos del mapa\n",
    "bin_count, posicion_x, posicion_y, zoom = solicitar_map_position()"
   ]
  },
  {
   "cell_type": "code",
   "execution_count": 13,
   "metadata": {},
   "outputs": [],
   "source": [
    "# Crear un mapa ilustrativo\n",
    "html_map = map_ilustration(gdf, minx, miny, maxx, maxy)\n",
    "\n",
    "# Crear un mapa de calor\n",
    "html_heatmap = map_heat(gdf, minx, miny, maxx, maxy, bin_count, posicion_x, posicion_y, zoom)"
   ]
  },
  {
   "cell_type": "code",
   "execution_count": 14,
   "metadata": {},
   "outputs": [],
   "source": [
    "# Crear aplicación Dash\n",
    "app = Dash(__name__)"
   ]
  },
  {
   "cell_type": "code",
   "execution_count": 15,
   "metadata": {},
   "outputs": [],
   "source": [
    "# Configurar el layout de la aplicación Dash\n",
    "app.layout = html.Div([\n",
    "    # División para el título\n",
    "    html.Div([\n",
    "        html.H1(\"Visualización de Datos de Taxi\")\n",
    "    ], style={'textAlign': 'center'}),  # Centrar el título\n",
    "\n",
    "    # Contenedor para los mapas, uno encima del otro\n",
    "    html.Div([\n",
    "        # División para la imagen del gráfico\n",
    "        html.Div([\n",
    "            html.Img(src='data:image/png;base64,{}'.format(html_map), style={'width': '100%'})\n",
    "        ], style={'width': '50%', 'textAlign': 'left', 'display': 'inline-block'}),  # Ajustar el ancho y alinear a la izquierda\n",
    "\n",
    "        # División para la imagen heatmap\n",
    "        html.Div([\n",
    "            html.Img(src='data:image/png;base64,{}'.format(html_heatmap), style={'width': '100%'})\n",
    "        ], style={'width': '50%', 'textAlign': 'left', 'display': 'inline-block'})  # Ajustar el ancho y alinear a la izquierda\n",
    "    ], style={'width': '100%'})\n",
    "])\n"
   ]
  },
  {
   "cell_type": "code",
   "execution_count": null,
   "metadata": {},
   "outputs": [],
   "source": [
    "# Ejecutar la aplicación\n",
    "if __name__ == '__main__':\n",
    "    app.run_server(debug=True, host='127.0.0.1', port=8050)\n",
    "    # http://127.0.0.1:8050/"
   ]
  }
 ],
 "metadata": {
  "kernelspec": {
   "display_name": "Python 3",
   "language": "python",
   "name": "python3"
  },
  "language_info": {
   "codemirror_mode": {
    "name": "ipython",
    "version": 3
   },
   "file_extension": ".py",
   "mimetype": "text/x-python",
   "name": "python",
   "nbconvert_exporter": "python",
   "pygments_lexer": "ipython3",
   "version": "3.11.2"
  }
 },
 "nbformat": 4,
 "nbformat_minor": 2
}
